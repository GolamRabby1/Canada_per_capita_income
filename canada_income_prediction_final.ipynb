{
 "cells": [
  {
   "cell_type": "code",
   "execution_count": null,
   "id": "4bfc63ac",
   "metadata": {},
   "outputs": [],
   "source": [
    "csv_data = '''year,per capita income (US$)\n",
    "1970,3399.299037\n",
    "1971,3768.297935\n",
    "1972,4251.175484\n",
    "1973,4804.463248\n",
    "1974,5576.514583\n",
    "1975,5998.144346\n",
    "1976,7062.131392\n",
    "1977,7100.12617\n",
    "1978,7247.967035\n",
    "1979,7602.912681\n",
    "1980,8355.96812\n",
    "1981,9434.390652\n",
    "1982,9619.438377\n",
    "1983,10416.53659\n",
    "1984,10790.32872\n",
    "1985,11018.95585\n",
    "1986,11482.89153\n",
    "1987,12974.80662\n",
    "1988,15080.28345\n",
    "1989,16426.72548\n",
    "1990,16838.6732\n",
    "1991,17266.09769\n",
    "1992,16412.08309\n",
    "1993,15875.58673\n",
    "1994,15755.82027\n",
    "1995,16369.31725\n",
    "1996,16699.82668\n",
    "1997,17310.75775\n",
    "1998,16622.67187\n",
    "1999,17581.02414\n",
    "2000,18987.38241\n",
    "2001,18601.39724\n",
    "2002,19232.17556\n",
    "2003,22739.42628\n",
    "2004,25719.14715\n",
    "2005,29198.05569\n",
    "2006,32738.2629\n",
    "2007,36144.48122\n",
    "2008,37446.48609\n",
    "2009,32755.17682\n",
    "2010,38420.52289\n",
    "2011,42334.71121\n",
    "2012,42665.25597\n",
    "2013,42676.46837\n",
    "2014,41039.8936\n",
    "2015,35175.18898\n",
    "2016,34229.19363'''\n",
    "\n",
    "# Write to CSV\n",
    "with open(\"canada_per_capita_income.csv\", \"w\") as file:\n",
    "    file.write(csv_data)\n"
   ]
  },
  {
   "cell_type": "code",
   "execution_count": null,
   "id": "b0882081",
   "metadata": {},
   "outputs": [],
   "source": [
    "import pandas as pd\n",
    "import matplotlib.pyplot as plt\n",
    "from sklearn.linear_model import LinearRegression"
   ]
  },
  {
   "cell_type": "code",
   "execution_count": null,
   "id": "4d74d35f",
   "metadata": {},
   "outputs": [],
   "source": [
    "# Load data from CSV\n",
    "data = pd.read_csv('exercise/canada_per_capita_income.csv')\n",
    "\n",
    "# Rename columns for convenience\n",
    "data.columns = ['year', 'income']\n",
    "data.head()"
   ]
  },
  {
   "cell_type": "code",
   "execution_count": null,
   "id": "31a05630",
   "metadata": {},
   "outputs": [],
   "source": [
    "X = data[['year']]\n",
    "y = data['income']\n",
    "\n",
    "model = LinearRegression()\n",
    "model.fit(X, y)"
   ]
  },
  {
   "cell_type": "code",
   "execution_count": null,
   "id": "0255e313",
   "metadata": {},
   "outputs": [],
   "source": [
    "# Ask user to input a year\n",
    "year = int(input(\"Enter a year to predict income for: \"))\n",
    "income_predicted = model.predict([[year]])\n",
    "print(f\"Predicted income for {year}: ${income_predicted[0]:,.2f}\")"
   ]
  },
  {
   "cell_type": "code",
   "execution_count": null,
   "id": "c2b62439",
   "metadata": {},
   "outputs": [],
   "source": [
    "plt.scatter(X, y, color='blue', label='Actual data')\n",
    "plt.plot(X, model.predict(X), color='red', label='Regression Line')\n",
    "plt.scatter(year, income_predicted, color='green', label=f'{year} Prediction')\n",
    "plt.xlabel('Year')\n",
    "plt.ylabel('Per Capita Income (US$)')\n",
    "plt.title('Canada Per Capita Income Prediction')\n",
    "plt.legend()\n",
    "plt.grid(True)\n",
    "plt.show()"
   ]
  }
 ],
 "metadata": {},
 "nbformat": 4,
 "nbformat_minor": 5
}
